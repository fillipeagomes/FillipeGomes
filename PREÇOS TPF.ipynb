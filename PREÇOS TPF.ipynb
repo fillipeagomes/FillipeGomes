{
 "cells": [
  {
   "cell_type": "code",
   "execution_count": 1,
   "id": "440d81f9",
   "metadata": {},
   "outputs": [],
   "source": [
    "import pandas as pd\n",
    "import datetime as dt\n",
    "from datetime import datetime\n",
    "from workadays import workdays as wd\n",
    "from datetime import date"
   ]
  },
  {
   "cell_type": "code",
   "execution_count": 2,
   "id": "b2cf0f33",
   "metadata": {},
   "outputs": [],
   "source": [
    "def truncate(num, n):\n",
    "    integer = int(num * (10**n))/(10**n)\n",
    "    return float(integer)"
   ]
  },
  {
   "cell_type": "code",
   "execution_count": 3,
   "id": "cfdcd77a",
   "metadata": {},
   "outputs": [],
   "source": [
    "hoje = dt.date(2023,8,3)"
   ]
  },
  {
   "cell_type": "code",
   "execution_count": 4,
   "id": "613b50e8",
   "metadata": {},
   "outputs": [
    {
     "name": "stdout",
     "output_type": "stream",
     "text": [
      "731.169983\n"
     ]
    }
   ],
   "source": [
    "# PRECIFICANDO LTN\n",
    "\n",
    "principal = 1000\n",
    "vencimento = dt.date(2026,7,1)\n",
    "i = 11.3980\n",
    "\n",
    "dias = wd.networkdays(hoje,vencimento,252)/252\n",
    "\n",
    "PU = truncate(principal/(1+i/100)**(dias),6)\n",
    "\n",
    "print(PU)"
   ]
  },
  {
   "cell_type": "code",
   "execution_count": 5,
   "id": "39870d73",
   "metadata": {},
   "outputs": [
    {
     "data": {
      "text/plain": [
       "911.562115"
      ]
     },
     "execution_count": 5,
     "metadata": {},
     "output_type": "execute_result"
    }
   ],
   "source": [
    "# PRECIFICANDO NTN-F\n",
    "\n",
    "principal = 1000\n",
    "cupom = 0.1\n",
    "vencimento = dt.date(2033,1,1)\n",
    "i = 11.8329\n",
    "\n",
    "taxa_cupom = round((((1+cupom)**0.5)-1),8)\n",
    "\n",
    "if hoje.month < 7:\n",
    "    fluxo_1 = '01/07/' + str(hoje.year)\n",
    "else:\n",
    "    fluxo_1 = '01/01/'+ (str(hoje.year + 1))\n",
    "\n",
    "fluxo_total = []\n",
    "fluxo_total.append(fluxo_1)\n",
    "fluxo_1 = datetime.strptime(fluxo_1,'%d/%m/%Y').date()\n",
    "\n",
    "while(fluxo_1 < vencimento):\n",
    "    fluxo_n = '01/' + (str(fluxo_1.month + 6)) + '/' + str(fluxo_1.year)\n",
    "    if float(str(fluxo_1.month + 6)) <= 7:\n",
    "        fluxo_n = '01/07/' + str(fluxo_1.year)\n",
    "    else:\n",
    "        fluxo_n = '01/01/'+ (str(fluxo_1.year + 1))\n",
    "    fluxo_total.append(fluxo_n)\n",
    "    fluxo_1 = datetime.strptime(fluxo_n,'%d/%m/%Y').date()\n",
    "\n",
    "fluxo_pgto = []\n",
    "for data in fluxo_total:\n",
    "    data = datetime.strptime(data,'%d/%m/%Y').date()\n",
    "    data = wd.workdays(wd.workdays(data,-1),+1)\n",
    "    fluxo_pgto.append(data)\n",
    "\n",
    "diaano_pgto = []\n",
    "for data in fluxo_pgto:\n",
    "    data = round((wd.networkdays(hoje,data,252))/252,16)\n",
    "    diaano_pgto.append(data)\n",
    "    \n",
    "pg_cupom = []\n",
    "for data in diaano_pgto:\n",
    "    valor_cupom = round((taxa_cupom*principal)/(1+i/100)**data,8)\n",
    "    pg_cupom.append(valor_cupom)\n",
    "    \n",
    "valor_principal = round(principal/(1+i/100)**(diaano_pgto[-1]),8)\n",
    "\n",
    "val_cupom = round(pd.DataFrame(pg_cupom).sum(),8)\n",
    "\n",
    "PU = truncate(val_cupom + valor_principal,6)\n",
    "\n",
    "PU"
   ]
  }
 ],
 "metadata": {
  "kernelspec": {
   "display_name": "Python 3 (ipykernel)",
   "language": "python",
   "name": "python3"
  },
  "language_info": {
   "codemirror_mode": {
    "name": "ipython",
    "version": 3
   },
   "file_extension": ".py",
   "mimetype": "text/x-python",
   "name": "python",
   "nbconvert_exporter": "python",
   "pygments_lexer": "ipython3",
   "version": "3.9.12"
  }
 },
 "nbformat": 4,
 "nbformat_minor": 5
}
