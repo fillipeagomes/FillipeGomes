{
 "cells": [
  {
   "cell_type": "code",
   "execution_count": 4,
   "id": "c8569183",
   "metadata": {},
   "outputs": [
    {
     "name": "stdout",
     "output_type": "stream",
     "text": [
      "Requirement already satisfied: workadays in c:\\users\\fgomes\\anaconda3\\lib\\site-packages (2022.8.8)\n",
      "Requirement already satisfied: six>=1.11.0 in c:\\users\\fgomes\\anaconda3\\lib\\site-packages (from workadays) (1.16.0)\n",
      "Requirement already satisfied: python-dateutil>=2.8.0 in c:\\users\\fgomes\\anaconda3\\lib\\site-packages (from workadays) (2.8.2)\n"
     ]
    },
    {
     "name": "stderr",
     "output_type": "stream",
     "text": [
      "WARNING: Ignoring invalid distribution -atplotlib (c:\\users\\fgomes\\anaconda3\\lib\\site-packages)\n",
      "WARNING: Ignoring invalid distribution -atplotlib (c:\\users\\fgomes\\anaconda3\\lib\\site-packages)\n",
      "WARNING: Ignoring invalid distribution -atplotlib (c:\\users\\fgomes\\anaconda3\\lib\\site-packages)\n",
      "WARNING: Ignoring invalid distribution -atplotlib (c:\\users\\fgomes\\anaconda3\\lib\\site-packages)\n",
      "WARNING: Ignoring invalid distribution -atplotlib (c:\\users\\fgomes\\anaconda3\\lib\\site-packages)\n",
      "WARNING: Ignoring invalid distribution -atplotlib (c:\\users\\fgomes\\anaconda3\\lib\\site-packages)\n"
     ]
    },
    {
     "name": "stdout",
     "output_type": "stream",
     "text": [
      "Requirement already satisfied: sidrapy in c:\\users\\fgomes\\anaconda3\\lib\\site-packages (0.1.4)\n",
      "Requirement already satisfied: pandas in c:\\users\\fgomes\\anaconda3\\lib\\site-packages (from sidrapy) (1.5.1)\n",
      "Requirement already satisfied: requests in c:\\users\\fgomes\\anaconda3\\lib\\site-packages (from sidrapy) (2.28.1)\n",
      "Requirement already satisfied: pytz>=2020.1 in c:\\users\\fgomes\\anaconda3\\lib\\site-packages (from pandas->sidrapy) (2022.7)\n",
      "Requirement already satisfied: python-dateutil>=2.8.1 in c:\\users\\fgomes\\anaconda3\\lib\\site-packages (from pandas->sidrapy) (2.8.2)\n",
      "Requirement already satisfied: numpy>=1.20.3 in c:\\users\\fgomes\\anaconda3\\lib\\site-packages (from pandas->sidrapy) (1.22.4)\n",
      "Requirement already satisfied: six>=1.5 in c:\\users\\fgomes\\anaconda3\\lib\\site-packages (from python-dateutil>=2.8.1->pandas->sidrapy) (1.16.0)\n",
      "Requirement already satisfied: urllib3<1.27,>=1.21.1 in c:\\users\\fgomes\\anaconda3\\lib\\site-packages (from requests->sidrapy) (1.26.9)\n",
      "Requirement already satisfied: charset-normalizer<3,>=2 in c:\\users\\fgomes\\anaconda3\\lib\\site-packages (from requests->sidrapy) (2.0.4)\n",
      "Requirement already satisfied: certifi>=2017.4.17 in c:\\users\\fgomes\\anaconda3\\lib\\site-packages (from requests->sidrapy) (2021.10.8)\n",
      "Requirement already satisfied: idna<4,>=2.5 in c:\\users\\fgomes\\anaconda3\\lib\\site-packages (from requests->sidrapy) (3.3)\n"
     ]
    },
    {
     "name": "stderr",
     "output_type": "stream",
     "text": [
      "WARNING: Ignoring invalid distribution -atplotlib (c:\\users\\fgomes\\anaconda3\\lib\\site-packages)\n",
      "WARNING: Ignoring invalid distribution -atplotlib (c:\\users\\fgomes\\anaconda3\\lib\\site-packages)\n",
      "WARNING: Ignoring invalid distribution -atplotlib (c:\\users\\fgomes\\anaconda3\\lib\\site-packages)\n",
      "WARNING: Ignoring invalid distribution -atplotlib (c:\\users\\fgomes\\anaconda3\\lib\\site-packages)\n",
      "WARNING: Ignoring invalid distribution -atplotlib (c:\\users\\fgomes\\anaconda3\\lib\\site-packages)\n",
      "WARNING: Ignoring invalid distribution -atplotlib (c:\\users\\fgomes\\anaconda3\\lib\\site-packages)\n"
     ]
    }
   ],
   "source": [
    "!pip install workadays\n",
    "!pip install sidrapy"
   ]
  },
  {
   "cell_type": "code",
   "execution_count": 5,
   "id": "440d81f9",
   "metadata": {},
   "outputs": [],
   "source": [
    "import math\n",
    "import sidrapy\n",
    "from bcb import sgs\n",
    "import pandas as pd\n",
    "import datetime as dt\n",
    "from datetime import datetime\n",
    "from workadays import workdays as wd\n",
    "from datetime import date"
   ]
  },
  {
   "cell_type": "code",
   "execution_count": 9,
   "id": "b2cf0f33",
   "metadata": {},
   "outputs": [],
   "source": [
    "def truncate(num, n):\n",
    "    integer = int(num * (10**n))/(10**n)\n",
    "    return float(integer)"
   ]
  },
  {
   "cell_type": "code",
   "execution_count": 7,
   "id": "cfdcd77a",
   "metadata": {},
   "outputs": [],
   "source": [
    "hoje = dt.date(2023,8,3)"
   ]
  },
  {
   "cell_type": "code",
   "execution_count": 28,
   "id": "613b50e8",
   "metadata": {},
   "outputs": [
    {
     "name": "stdout",
     "output_type": "stream",
     "text": [
      "714.452233\n"
     ]
    }
   ],
   "source": [
    "# PRECIFICANDO LTN\n",
    "\n",
    "principal = 1000\n",
    "vencimento = dt.date(2026,7,1)\n",
    "i = 11.3980\n",
    "\n",
    "dias = wd.networkdays(hoje,vencimento,252)/252\n",
    "\n",
    "PU = truncate(principal/(1+i/100)**(dias),6)\n",
    "\n",
    "print(PU)"
   ]
  },
  {
   "cell_type": "code",
   "execution_count": 123,
   "id": "39870d73",
   "metadata": {},
   "outputs": [
    {
     "data": {
      "text/plain": [
       "938.118375"
      ]
     },
     "execution_count": 123,
     "metadata": {},
     "output_type": "execute_result"
    }
   ],
   "source": [
    "# PRECIFICANDO NTN-F\n",
    "\n",
    "principal = 1000\n",
    "cupom = 0.1\n",
    "vencimento = dt.date(2033,1,1)\n",
    "i = 11.8329\n",
    "\n",
    "taxa_cupom = round((((1+cupom)**0.5)-1),8)\n",
    "\n",
    "if hoje.month < 7:\n",
    "    fluxo_1 = '01/07/' + str(hoje.year)\n",
    "else:\n",
    "    fluxo_1 = '01/01/'+ (str(hoje.year + 1))\n",
    "\n",
    "fluxo_total = []\n",
    "fluxo_total.append(fluxo_1)\n",
    "fluxo_1 = datetime.strptime(fluxo_1,'%d/%m/%Y').date()\n",
    "\n",
    "while(fluxo_1 < vencimento):\n",
    "    fluxo_n = '01/' + (str(fluxo_1.month + 6)) + '/' + str(fluxo_1.year)\n",
    "    if float(str(fluxo_1.month + 6)) <= 7:\n",
    "        fluxo_n = '01/07/' + str(fluxo_1.year)\n",
    "    else:\n",
    "        fluxo_n = '01/01/'+ (str(fluxo_1.year + 1))\n",
    "    fluxo_total.append(fluxo_n)\n",
    "    fluxo_1 = datetime.strptime(fluxo_n,'%d/%m/%Y').date()\n",
    "\n",
    "fluxo_pgto = []\n",
    "for data in fluxo_total:\n",
    "    data = datetime.strptime(data,'%d/%m/%Y').date()\n",
    "    data = wd.workdays(wd.workdays(data,-1),+1)\n",
    "    fluxo_pgto.append(data)\n",
    "\n",
    "diaano_pgto = []\n",
    "for data in fluxo_pgto:\n",
    "    data = round((wd.networkdays(hoje,data,252))/252,16)\n",
    "    diaano_pgto.append(data)\n",
    "    \n",
    "pg_cupom = []\n",
    "for data in diaano_pgto:\n",
    "    valor_cupom = round((taxa_cupom*principal)/(1+i/100)**data,8)\n",
    "    pg_cupom.append(valor_cupom)\n",
    "    \n",
    "valor_principal = round(principal/(1+i/100)**(diaano_pgto[-1]),8)\n",
    "\n",
    "val_cupom = round(pd.DataFrame(pg_cupom).sum(),8)\n",
    "\n",
    "PU = truncate(val_cupom + valor_principal,6)\n",
    "\n",
    "PU"
   ]
  },
  {
   "cell_type": "code",
   "execution_count": 12,
   "id": "bf8c7c4d",
   "metadata": {},
   "outputs": [
    {
     "data": {
      "text/plain": [
       "4135.580365"
      ]
     },
     "execution_count": 12,
     "metadata": {},
     "output_type": "execute_result"
    }
   ],
   "source": [
    "# VNA IPCA\n",
    "ipca_proj = 0.26/100\n",
    "ipca_raw = sidrapy.get_table(table_code = '1737',\n",
    "                             territorial_level = '1',\n",
    "                             ibge_territorial_code = 'all',\n",
    "                             variable = '63,2266',\n",
    "                             period = 'last%20472')\n",
    "ipca = ipca_raw.loc[1:,['V', 'D2C', 'D3N']].rename(columns = {'V': 'value','D2C': 'date','D3N': 'variable'})\n",
    "ipca_indice = ipca.loc[(ipca['date'] > '200005') & (ipca['variable'].str.startswith('IPCA - Número-índice')),\n",
    "                       ['date', 'variable','value']]\n",
    "\n",
    "ipca_var = ipca.loc[(ipca['date'] > '200005') & (ipca['variable'].str.startswith('IPCA - Variação mensal')),\n",
    "                       ['date', 'variable', 'value']]\n",
    "\n",
    "if str(hoje.day) == '15':\n",
    "    if len(str(hoje.month-1)) < 2:\n",
    "        vna = float(ipca_indice[ipca_indice['date'] == str(hoje.year)+ '0' + str(hoje.month-1)]['value'])/float(ipca_indice[(ipca_indice['date'] == '200006')]['value'])\n",
    "    else:\n",
    "        vna = float(ipca_indice[ipca_indice['date'] == str(hoje.year) + str(hoje.month-1)]['value'])/float(ipca_indice[(ipca_indice['date'] == '200006')]['value'])\n",
    "        \n",
    "    vna_ipca = vna*100\n",
    "                                                                                                           \n",
    "if str(hoje.day) < '15':\n",
    "    if len(str(hoje.month-1)) < 2:\n",
    "        mes_passado = '15' + '/' + '0' + str(hoje.month-1) + '/' + str(hoje.year)\n",
    "    else:\n",
    "        mes_passado = datetime.strptime(mes_passado,'%d/%m/%Y').date()\n",
    "        \n",
    "    mes_passado = datetime.strptime(mes_passado,'%d/%m/%Y').date()\n",
    "        \n",
    "    if len(str(hoje.month)) < 2:\n",
    "        mes_atual = '15' + '/' + '0' + str(hoje.month) + '/' + str(hoje.year)\n",
    "    else:\n",
    "        mes_atual = '15' + '/' + str(hoje.month) + '/' + str(hoje.year)\n",
    "               \n",
    "    mes_atual = datetime.strptime(mes_atual,'%d/%m/%Y').date()\n",
    "    \n",
    "    if len(str(hoje.month-2)) < 2:\n",
    "        mes_proximo = '15' + '/' + '0' + str(hoje.month-2) + '/' + str(hoje.year)\n",
    "    else:\n",
    "        mes_proximo = '15' + '/' + str(hoje.month-2) + '/' + str(hoje.year)\n",
    "        \n",
    "    mes_proximo = datetime.strptime(mes_proximo,'%d/%m/%Y').date()\n",
    "        \n",
    "    du1 = wd.networkdays(mes_passado,mes_atual,252)\n",
    "    du2 = wd.networkdays(mes_atual,mes_proximo,252)\n",
    "    \n",
    "    vna_antes = float(ipca_indice[ipca_indice['date'] == str(hoje.year)+ '0' + str(hoje.month-2)]['value'])/float(ipca_indice[(ipca_indice['date'] == '200006')]['value'])\n",
    "    ipca_prorata = float(ipca_var[ipca_var['date'] == str(hoje.year)+ '0' + str(hoje.month-2)]['value'])\n",
    "    \n",
    "    vna_ipca = truncate(vna_antes*ipca_prorata**(du1/du2)*1000,6)\n",
    "\n",
    "if str(hoje.day) > '15':\n",
    "    if len(str(hoje.month-1)) < 2:\n",
    "        mes_passado = '15' + '/' + '0' + str(hoje.month-1) + '/' + str(hoje.year)\n",
    "    else:\n",
    "        mes_passado = '15' + '/' + str(hoje.month-1) + '/' + str(hoje.year)\n",
    "    mes_passado = datetime.strptime(mes_passado,'%d/%m/%Y').date()\n",
    "        \n",
    "    if len(str(hoje.month)) < 2:\n",
    "        mes_atual = '15' + '/' + '0' + str(hoje.month) + '/' + str(hoje.year)\n",
    "    else:\n",
    "        mes_atual = '15' + '/' + str(hoje.month) + '/' + str(hoje.year)\n",
    "    mes_atual = datetime.strptime(mes_atual,'%d/%m/%Y').date()\n",
    "    \n",
    "    if len(str(hoje.month+1)) < 2:\n",
    "        mes_proximo = '15' + '/' + '0' + str(hoje.month+1) + '/' + str(hoje.year)\n",
    "    else:\n",
    "        mes_passado = '15' + '/' + str(hoje.month+1) + '/' + str(hoje.year)\n",
    "    mes_proximo = datetime.strptime(mes_proximo,'%d/%m/%Y').date()\n",
    "        \n",
    "    du1 = round(abs(wd.networkdays(mes_atual,hoje,252)),12)\n",
    "    du2 = round(wd.networkdays(mes_atual,mes_proximo,252),12)\n",
    "    \n",
    "    vna_antes = truncate(float(ipca_indice[ipca_indice['date'] == str(hoje.year)+ '0' + str(hoje.month-1)]['value'])/float(ipca_indice[(ipca_indice['date'] == '200006')]['value']),9)  \n",
    "    vna_ipca = truncate(vna_antes*(1+ipca_proj)**(du1/du2)*1000,6)    \n",
    "    \n",
    "vna_ipca"
   ]
  },
  {
   "cell_type": "code",
   "execution_count": 10,
   "id": "fcfb7af9",
   "metadata": {},
   "outputs": [
    {
     "data": {
      "text/plain": [
       "4342.897242"
      ]
     },
     "execution_count": 10,
     "metadata": {},
     "output_type": "execute_result"
    }
   ],
   "source": [
    "# PRECIFICANDO NTN-B\n",
    "\n",
    "cupom = 0.06\n",
    "vencimento = dt.date(2026,8,15)\n",
    "i = 5.0874\n",
    "vna = 4126.821021\n",
    "\n",
    "taxa_cupom = round((((1+cupom)**0.5)-1),8)\n",
    "\n",
    "if vencimento.year%2 == 0:\n",
    "    ano_vencimento ='par'\n",
    "else:\n",
    "    ano_vencimento ='impar'\n",
    "\n",
    "if ano_vencimento == 'par':\n",
    "    if hoje.month < 2:\n",
    "        fluxo_1_par = '15/02/' + str(hoje.year)\n",
    "    if hoje.month == 2 and hoje.day < 15:\n",
    "        fluxo_1_par = '15/02/' + str(hoje.year)\n",
    "    if hoje.month == 2 and hoje.day >= 15:\n",
    "        fluxo_1_par = '15/08/' + str(hoje.year)\n",
    "    if hoje.month > 2 and hoje.month < 8:\n",
    "        fluxo_1_par = '15/08/' + str(hoje.year)\n",
    "    if hoje.month == 8 and hoje.day < 15:\n",
    "        fluxo_1_par = '15/08/' + str(hoje.year)\n",
    "    if hoje.month == 8 and hoje.day >= 15:\n",
    "        fluxo_1_par = '15/02/' + (str(hoje.year + 1))\n",
    "    if hoje.month > 8:\n",
    "        fluxo_1_par = '15/02/' + (str(hoje.year + 1))  \n",
    "        \n",
    "    fluxo_total = []\n",
    "    fluxo_total.append(fluxo_1_par)\n",
    "    fluxo_1_par = datetime.strptime(fluxo_1_par,'%d/%m/%Y').date()\n",
    "        \n",
    "    while(fluxo_1_par < vencimento):\n",
    "        fluxo_n_par = '15/' + (str(fluxo_1_par.month + 6)) + '/' + str(fluxo_1_par.year)\n",
    "        if float(str(fluxo_1_par.month + 6)) > 8:\n",
    "            fluxo_n_par = '15/02/' + (str(fluxo_1_par.year + 1))\n",
    "        else:\n",
    "            fluxo_n_par = '15/08/' + str(fluxo_1_par.year)\n",
    "            \n",
    "        fluxo_total.append(fluxo_n_par)\n",
    "        fluxo_1_par = datetime.strptime(fluxo_n_par,'%d/%m/%Y').date()\n",
    "\n",
    "if ano_vencimento == 'impar':\n",
    "    if hoje.month < 5:\n",
    "        fluxo_2 = '15/05/' + str(hoje.year)\n",
    "    if hoje.month == 5 and hoje.day < 15:\n",
    "        fluxo_2 = '15/05/' + str(hoje.year)\n",
    "    if hoje.month == 5 and hoje.day >= 15:\n",
    "        fluxo_2 = '15/11/' + str(hoje.year)\n",
    "    if hoje.month > 5 and hoje.month < 11:\n",
    "        fluxo_2 = '15/11/' + str(hoje.year)\n",
    "    if hoje.month == 11 and hoje.day < 15:\n",
    "        fluxo_2 = '15/11/' + str(hoje.year)\n",
    "    if hoje.month == 8 and hoje.day >= 15:\n",
    "        fluxo_2 = '15/05/' + (str(hoje.year + 1))\n",
    "    if hoje.month > 8:\n",
    "        fluxo_2 = '15/05/' + (str(hoje.year + 1))\n",
    "        \n",
    "    fluxo_total = []\n",
    "    fluxo_total.append(fluxo_2)\n",
    "    fluxo_2 = datetime.strptime(fluxo_2,'%d/%m/%Y').date()\n",
    "        \n",
    "    while(fluxo_2 < vencimento):\n",
    "        fluxo_n = '15/' + (str(fluxo_2.month + 6)) + '/' + str(fluxo_2.year)\n",
    "        if float(str(fluxo_2.month + 6)) > 11:\n",
    "            fluxo_n = '15/05/' + (str(fluxo_2.year + 1))\n",
    "        else:\n",
    "            fluxo_n = '15/11/' + str(fluxo_2.year)\n",
    "            \n",
    "        fluxo_total.append(fluxo_n)\n",
    "        fluxo_2 = datetime.strptime(fluxo_n,'%d/%m/%Y').date()\n",
    "            \n",
    "fluxo_pgto = []\n",
    "for data in fluxo_total:\n",
    "    data = datetime.strptime(data,'%d/%m/%Y').date()\n",
    "    data = wd.workdays(wd.workdays(data,-1),+1)\n",
    "    fluxo_pgto.append(data)\n",
    "                \n",
    "diaano_pgto = []\n",
    "for data in fluxo_pgto:\n",
    "    data = truncate((wd.networkdays(hoje,data,252))/252,14)\n",
    "    diaano_pgto.append(data)\n",
    "                \n",
    "pg_cupom = []\n",
    "for data in diaano_pgto:\n",
    "    valor_cupom = (taxa_cupom*100)/(1+i/100)**data\n",
    "    pg_cupom.append(valor_cupom)\n",
    "        \n",
    "valor_principal = 100/(1+i/100)**(diaano_pgto[-1])\n",
    "cotacao = truncate(pd.DataFrame(pg_cupom).sum() + valor_principal,4)/100\n",
    "PU = truncate(cotacao*vna_ipca,6)\n",
    "            \n",
    "PU"
   ]
  },
  {
   "cell_type": "code",
   "execution_count": 21,
   "id": "303aadb4",
   "metadata": {},
   "outputs": [
    {
     "name": "stderr",
     "output_type": "stream",
     "text": [
      "C:\\Users\\fgomes\\AppData\\Local\\Temp\\ipykernel_10132\\702838232.py:14: SettingWithCopyWarning: \n",
      "A value is trying to be set on a copy of a slice from a DataFrame\n",
      "\n",
      "See the caveats in the documentation: https://pandas.pydata.org/pandas-docs/stable/user_guide/indexing.html#returning-a-view-versus-a-copy\n",
      "  selic_inicio['acumulada'][i] = acumulada\n"
     ]
    },
    {
     "data": {
      "text/plain": [
       "13114.098202"
      ]
     },
     "execution_count": 21,
     "metadata": {},
     "output_type": "execute_result"
    }
   ],
   "source": [
    "# PRECIFICANDO LFT\n",
    "\n",
    "taxa = 0.1923\n",
    "vencimento = dt.date(2029,3,1)\n",
    "dias = wd.networkdays(hoje,vencimento,252)/252\n",
    "\n",
    "# VNA SELIC\n",
    "\n",
    "selic_inicio = sgs.get({'selic':11}, start = '2000-07-01', end = hoje).astype('float')\n",
    "\n",
    "selic_inicio['acumulada'] = 1000\n",
    "for i in range(1,len(selic_inicio['selic'])):\n",
    "    acumulada = selic_inicio['acumulada'].iloc[i-1] * (1+selic_inicio['selic'].iloc[i]/100)\n",
    "    selic_inicio['acumulada'][i] = acumulada\n",
    "    \n",
    "vna_selic = truncate(selic_inicio['acumulada'].filter(like = str(wd.workdays(date.today(),-2)), axis = 0),6)\n",
    "\n",
    "cotacao = truncate((1/(1+taxa/100)**dias),6)\n",
    "PU = truncate(vna_selic*cotacao,6)\n",
    "PU"
   ]
  },
  {
   "cell_type": "code",
   "execution_count": 25,
   "id": "98f7f0c4",
   "metadata": {},
   "outputs": [
    {
     "data": {
      "text/plain": [
       "datetime.date(2023, 5, 15)"
      ]
     },
     "execution_count": 25,
     "metadata": {},
     "output_type": "execute_result"
    }
   ],
   "source": [
    "mes_passado"
   ]
  },
  {
   "cell_type": "code",
   "execution_count": 9,
   "id": "d4d01a48",
   "metadata": {},
   "outputs": [
    {
     "ename": "AttributeError",
     "evalue": "'str' object has no attribute 'year'",
     "output_type": "error",
     "traceback": [
      "\u001b[1;31m---------------------------------------------------------------------------\u001b[0m",
      "\u001b[1;31mAttributeError\u001b[0m                            Traceback (most recent call last)",
      "Input \u001b[1;32mIn [9]\u001b[0m, in \u001b[0;36m<cell line: 1>\u001b[1;34m()\u001b[0m\n\u001b[1;32m----> 1\u001b[0m du1 \u001b[38;5;241m=\u001b[39m \u001b[43mwd\u001b[49m\u001b[38;5;241;43m.\u001b[39;49m\u001b[43mnetworkdays\u001b[49m\u001b[43m(\u001b[49m\u001b[43mmes_passado\u001b[49m\u001b[43m,\u001b[49m\u001b[43mmes_atual\u001b[49m\u001b[43m,\u001b[49m\u001b[38;5;241;43m252\u001b[39;49m\u001b[43m)\u001b[49m\n",
      "File \u001b[1;32m~\\Anaconda3\\lib\\site-packages\\workadays\\workdays.py:152\u001b[0m, in \u001b[0;36mnetworkdays\u001b[1;34m(start_date, end_date, years, expand, observed, country, prov, state)\u001b[0m\n\u001b[0;32m    150\u001b[0m \u001b[38;5;28;01melse\u001b[39;00m:\n\u001b[0;32m    151\u001b[0m     \u001b[38;5;28;01mif\u001b[39;00m years \u001b[38;5;129;01mis\u001b[39;00m \u001b[38;5;129;01mnot\u001b[39;00m \u001b[38;5;28;01mNone\u001b[39;00m:\n\u001b[1;32m--> 152\u001b[0m         years \u001b[38;5;241m=\u001b[39m \u001b[38;5;28mrange\u001b[39m(\u001b[43mstart_date\u001b[49m\u001b[38;5;241;43m.\u001b[39;49m\u001b[43myear\u001b[49m, end_date\u001b[38;5;241m.\u001b[39myear \u001b[38;5;241m+\u001b[39m \u001b[38;5;241m1\u001b[39m)\n\u001b[0;32m    153\u001b[0m     holidays \u001b[38;5;241m=\u001b[39m get_holidays(years\u001b[38;5;241m=\u001b[39myears, expand\u001b[38;5;241m=\u001b[39mexpand, observed\u001b[38;5;241m=\u001b[39mobserved,\n\u001b[0;32m    154\u001b[0m                             country\u001b[38;5;241m=\u001b[39mcountry, prov\u001b[38;5;241m=\u001b[39mprov, state\u001b[38;5;241m=\u001b[39mstate)\n\u001b[0;32m    156\u001b[0m \u001b[38;5;66;03m# Diferença de dias corridos\u001b[39;00m\n",
      "\u001b[1;31mAttributeError\u001b[0m: 'str' object has no attribute 'year'"
     ]
    }
   ],
   "source": [
    "du1 = wd.networkdays(mes_passado,mes_atual,252)"
   ]
  },
  {
   "cell_type": "code",
   "execution_count": 18,
   "id": "a06b2f59",
   "metadata": {},
   "outputs": [
    {
     "data": {
      "text/plain": [
       "5"
      ]
     },
     "execution_count": 18,
     "metadata": {},
     "output_type": "execute_result"
    }
   ],
   "source": [
    "hoje.month-1"
   ]
  },
  {
   "cell_type": "code",
   "execution_count": 10,
   "id": "7e4359d0",
   "metadata": {},
   "outputs": [
    {
     "data": {
      "text/plain": [
       "'15/05/2023'"
      ]
     },
     "execution_count": 10,
     "metadata": {},
     "output_type": "execute_result"
    }
   ],
   "source": [
    "mes_passado"
   ]
  },
  {
   "cell_type": "code",
   "execution_count": 11,
   "id": "9526e949",
   "metadata": {},
   "outputs": [
    {
     "data": {
      "text/plain": [
       "datetime.date(2023, 6, 15)"
      ]
     },
     "execution_count": 11,
     "metadata": {},
     "output_type": "execute_result"
    }
   ],
   "source": [
    "mes_atual"
   ]
  },
  {
   "cell_type": "code",
   "execution_count": null,
   "id": "12b2e9be",
   "metadata": {},
   "outputs": [],
   "source": []
  },
  {
   "cell_type": "code",
   "execution_count": 4,
   "id": "dd2f67d1",
   "metadata": {},
   "outputs": [],
   "source": []
  },
  {
   "cell_type": "code",
   "execution_count": 6,
   "id": "d76b95f6",
   "metadata": {},
   "outputs": [
    {
     "data": {
      "text/html": [
       "<div>\n",
       "<style scoped>\n",
       "    .dataframe tbody tr th:only-of-type {\n",
       "        vertical-align: middle;\n",
       "    }\n",
       "\n",
       "    .dataframe tbody tr th {\n",
       "        vertical-align: top;\n",
       "    }\n",
       "\n",
       "    .dataframe thead th {\n",
       "        text-align: right;\n",
       "    }\n",
       "</style>\n",
       "<table border=\"1\" class=\"dataframe\">\n",
       "  <thead>\n",
       "    <tr style=\"text-align: right;\">\n",
       "      <th></th>\n",
       "      <th>date</th>\n",
       "      <th>variable</th>\n",
       "      <th>value</th>\n",
       "    </tr>\n",
       "  </thead>\n",
       "  <tbody>\n",
       "    <tr>\n",
       "      <th>936</th>\n",
       "      <td>202302</td>\n",
       "      <td>IPCA - Número-índice (base: dezembro de 1993 =...</td>\n",
       "      <td>6563.0700000000000</td>\n",
       "    </tr>\n",
       "    <tr>\n",
       "      <th>938</th>\n",
       "      <td>202303</td>\n",
       "      <td>IPCA - Número-índice (base: dezembro de 1993 =...</td>\n",
       "      <td>6609.6700000000000</td>\n",
       "    </tr>\n",
       "    <tr>\n",
       "      <th>940</th>\n",
       "      <td>202304</td>\n",
       "      <td>IPCA - Número-índice (base: dezembro de 1993 =...</td>\n",
       "      <td>6649.9900000000000</td>\n",
       "    </tr>\n",
       "    <tr>\n",
       "      <th>942</th>\n",
       "      <td>202305</td>\n",
       "      <td>IPCA - Número-índice (base: dezembro de 1993 =...</td>\n",
       "      <td>6665.2800000000000</td>\n",
       "    </tr>\n",
       "    <tr>\n",
       "      <th>944</th>\n",
       "      <td>202306</td>\n",
       "      <td>IPCA - Número-índice (base: dezembro de 1993 =...</td>\n",
       "      <td>6659.9500000000000</td>\n",
       "    </tr>\n",
       "  </tbody>\n",
       "</table>\n",
       "</div>"
      ],
      "text/plain": [
       "       date                                           variable  \\\n",
       "936  202302  IPCA - Número-índice (base: dezembro de 1993 =...   \n",
       "938  202303  IPCA - Número-índice (base: dezembro de 1993 =...   \n",
       "940  202304  IPCA - Número-índice (base: dezembro de 1993 =...   \n",
       "942  202305  IPCA - Número-índice (base: dezembro de 1993 =...   \n",
       "944  202306  IPCA - Número-índice (base: dezembro de 1993 =...   \n",
       "\n",
       "                  value  \n",
       "936  6563.0700000000000  \n",
       "938  6609.6700000000000  \n",
       "940  6649.9900000000000  \n",
       "942  6665.2800000000000  \n",
       "944  6659.9500000000000  "
      ]
     },
     "execution_count": 6,
     "metadata": {},
     "output_type": "execute_result"
    }
   ],
   "source": [
    "ipca_indice.tail()"
   ]
  },
  {
   "cell_type": "code",
   "execution_count": null,
   "id": "a1392a5f",
   "metadata": {},
   "outputs": [],
   "source": []
  },
  {
   "cell_type": "code",
   "execution_count": null,
   "id": "64e61e75",
   "metadata": {},
   "outputs": [],
   "source": []
  },
  {
   "cell_type": "code",
   "execution_count": null,
   "id": "89399a81",
   "metadata": {},
   "outputs": [],
   "source": []
  }
 ],
 "metadata": {
  "kernelspec": {
   "display_name": "Python 3 (ipykernel)",
   "language": "python",
   "name": "python3"
  },
  "language_info": {
   "codemirror_mode": {
    "name": "ipython",
    "version": 3
   },
   "file_extension": ".py",
   "mimetype": "text/x-python",
   "name": "python",
   "nbconvert_exporter": "python",
   "pygments_lexer": "ipython3",
   "version": "3.9.12"
  }
 },
 "nbformat": 4,
 "nbformat_minor": 5
}
